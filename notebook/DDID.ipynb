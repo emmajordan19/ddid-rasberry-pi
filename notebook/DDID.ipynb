{
 "cells": [
  {
   "cell_type": "code",
   "execution_count": null,
   "id": "a8b77824",
   "metadata": {},
   "outputs": [],
   "source": [
    "import pandas as pd\n",
    "import re\n",
    "import datetime as dt\n",
    "import numpy as np"
   ]
  },
  {
   "cell_type": "code",
   "execution_count": null,
   "id": "cbcd2a69",
   "metadata": {},
   "outputs": [],
   "source": [
    "# read 2nd sheet of an excel file\n",
    "ddid = pd.read_excel(r\"/Users/brentcleland/NSS/Projects/ddid-rasberry-pi/data/TEIS Exit Data for NSS.xlsx\", sheet_name =3)"
   ]
  },
  {
   "cell_type": "code",
   "execution_count": null,
   "id": "898cfb94",
   "metadata": {},
   "outputs": [],
   "source": [
    "ddid[['Child ID', 'DOB', 'Initial IFSP Date', 'Exit Date', 'Exit Reason', 'Exit Note']]"
   ]
  },
  {
   "cell_type": "code",
   "execution_count": null,
   "id": "cb586401",
   "metadata": {},
   "outputs": [],
   "source": [
    "ddid_filtered = ddid[ddid['Exit Note'].notnull()]\n",
    "ddid_filtered.head()"
   ]
  },
  {
   "cell_type": "code",
   "execution_count": null,
   "id": "400c4db8",
   "metadata": {},
   "outputs": [],
   "source": [
    "#ddid_filtered['Exit Note']"
   ]
  },
  {
   "cell_type": "code",
   "execution_count": null,
   "id": "9449f431",
   "metadata": {},
   "outputs": [],
   "source": [
    "#ddid_filtered.loc[ddid_filtered['Exit Note'].str.contains(r\"(\\d+/\\d+/\\d+)\", case=False)]\n"
   ]
  },
  {
   "cell_type": "code",
   "execution_count": null,
   "id": "ba07b939",
   "metadata": {},
   "outputs": [],
   "source": [
    "#search.to_csv('new_filter.csv')"
   ]
  },
  {
   "cell_type": "code",
   "execution_count": null,
   "id": "ac1ccefd",
   "metadata": {},
   "outputs": [],
   "source": [
    "search = ddid_filtered.loc[ddid_filtered['Exit Note'].str.contains('(Reopened:)\\s\\d{2}/\\d{2}/\\d{4}\\s(Exit Date:)\\s\\d{2}/\\d{2}/\\d{4}')]\n",
    "search"
   ]
  },
  {
   "cell_type": "code",
   "execution_count": null,
   "id": "0cbc3880",
   "metadata": {},
   "outputs": [],
   "source": [
    "search['Exit Note'].str.extract(r'(Reopened:\\d{2}/\\d{2}/\\d{4})')\n",
    "search.head(2)"
   ]
  },
  {
   "cell_type": "markdown",
   "id": "30de437e",
   "metadata": {},
   "source": [
    "Findall messed up the str function below we used extract"
   ]
  },
  {
   "cell_type": "code",
   "execution_count": null,
   "id": "38f9033c",
   "metadata": {
    "scrolled": true
   },
   "outputs": [],
   "source": [
    "#search['Exit Note'].str.findall(r'Reopened:\\d{2}/\\d{2}/\\d{4}')\n",
    "#search.head(2)"
   ]
  },
  {
   "cell_type": "code",
   "execution_count": null,
   "id": "a35f228d",
   "metadata": {},
   "outputs": [],
   "source": [
    "dates = search['Exit Note'].str.extract(r'(Reopened: \\d{2}/\\d{2}/\\d{4}) (Exit Date: \\d{2}/\\d{2}/\\d{4})')\n",
    "dates"
   ]
  },
  {
   "cell_type": "code",
   "execution_count": null,
   "id": "bd597002",
   "metadata": {},
   "outputs": [],
   "source": [
    "#dates = search['Exit Note'].str.findall(r'(Reopened: \\d{2}/\\d{2}/\\d{4}) (Exit Date: \\d{2}/\\d{2}/\\d{4})')\n",
    "#dates"
   ]
  },
  {
   "cell_type": "code",
   "execution_count": null,
   "id": "f20f8919",
   "metadata": {},
   "outputs": [],
   "source": [
    "reopen_adjusted = search['Exit Note'].str.extract(r'(Reopened: \\d{2}/\\d{2}/\\d{4})')\n",
    "reopen_adjusted"
   ]
  },
  {
   "cell_type": "code",
   "execution_count": null,
   "id": "bb2eacc8",
   "metadata": {},
   "outputs": [],
   "source": [
    "#reopen_adjusted = search['Exit Note'].str.findall(r'(Reopened: \\d{2}/\\d{2}/\\d{4})')\n",
    "#reopen_adjusted"
   ]
  },
  {
   "cell_type": "code",
   "execution_count": null,
   "id": "e7051657",
   "metadata": {},
   "outputs": [],
   "source": [
    "exit_adjusted  = search['Exit Note'].str.extract(r'(Exit Date: \\d{2}/\\d{2}/\\d{4})')\n",
    "exit_adjusted"
   ]
  },
  {
   "cell_type": "code",
   "execution_count": null,
   "id": "1b5e0e6a",
   "metadata": {
    "scrolled": true
   },
   "outputs": [],
   "source": [
    "#exit_adjusted  =search['Exit Note'].str.findall(r'(Exit Date: \\d{2}/\\d{2}/\\d{4})')\n",
    "#exit_adjusted"
   ]
  },
  {
   "cell_type": "code",
   "execution_count": null,
   "id": "4833b763",
   "metadata": {},
   "outputs": [],
   "source": [
    "#exit_adjusted1=search['Exit Note'].str.findall(r'\\d{2}/\\d{2}/\\d{4}')\n",
    "#exit_adjusted1"
   ]
  },
  {
   "cell_type": "code",
   "execution_count": null,
   "id": "3e2b22c1",
   "metadata": {},
   "outputs": [],
   "source": [
    "search['reopen_date'] = reopen_adjusted\n",
    "search.head()"
   ]
  },
  {
   "cell_type": "code",
   "execution_count": null,
   "id": "2dd2bd0b",
   "metadata": {},
   "outputs": [],
   "source": [
    "search['exit_date_adjusted'] = exit_adjusted\n",
    "search.head()"
   ]
  },
  {
   "cell_type": "code",
   "execution_count": null,
   "id": "17288aff",
   "metadata": {},
   "outputs": [],
   "source": [
    "#search['exit_date_adjusted'] = search['exit_date_adjusted'].str.extract('(\\d+.\\d+.\\d+)')\n",
    "#search"
   ]
  },
  {
   "cell_type": "code",
   "execution_count": null,
   "id": "4faf06dd",
   "metadata": {},
   "outputs": [],
   "source": [
    "exit_val = search['exit_date_adjusted'].str.extract('(\\d+.\\d+.\\d+)')\n",
    "exit_val"
   ]
  },
  {
   "cell_type": "code",
   "execution_count": null,
   "id": "2e3c9be2",
   "metadata": {},
   "outputs": [],
   "source": [
    "#exit_val = search['exit_date_adjusted'].astype(str).str.extract('(\\d+.\\d+.\\d+\\ Exit Reason: 618)')\n",
    "#exit_val.to_csv('x.csv')"
   ]
  },
  {
   "cell_type": "code",
   "execution_count": null,
   "id": "681b1868",
   "metadata": {},
   "outputs": [],
   "source": [
    "reopen_val = search['reopen_date'].astype(str).str.extract('(\\d+.\\d+.\\d+)')\n"
   ]
  },
  {
   "cell_type": "code",
   "execution_count": null,
   "id": "484b791a",
   "metadata": {},
   "outputs": [],
   "source": [
    "search['reopen_date'] = reopen_val\n",
    "search"
   ]
  },
  {
   "cell_type": "code",
   "execution_count": null,
   "id": "a7de6a30",
   "metadata": {},
   "outputs": [],
   "source": [
    "search['exit_date_adjusted'] = exit_val\n",
    "search.head()"
   ]
  },
  {
   "cell_type": "code",
   "execution_count": null,
   "id": "df35d67e",
   "metadata": {},
   "outputs": [],
   "source": [
    "display(search.dtypes)"
   ]
  },
  {
   "cell_type": "code",
   "execution_count": null,
   "id": "a6929f2a",
   "metadata": {},
   "outputs": [],
   "source": [
    "#pd.to_datetime(df['your_time_column'])\n",
    "pd.to_datetime(search['reopen_date'])"
   ]
  },
  {
   "cell_type": "code",
   "execution_count": null,
   "id": "73ce42a2",
   "metadata": {},
   "outputs": [],
   "source": [
    "#pd.to_datetime(df['your_time_column'])\n",
    "pd.to_datetime(search['exit_date_adjusted'])"
   ]
  },
  {
   "cell_type": "code",
   "execution_count": null,
   "id": "881be2a8",
   "metadata": {},
   "outputs": [],
   "source": [
    "search['reopen_date'] = pd.to_datetime(search['reopen_date'])\n"
   ]
  },
  {
   "cell_type": "code",
   "execution_count": null,
   "id": "2c9c34d3",
   "metadata": {},
   "outputs": [],
   "source": [
    "search['exit_date_adjusted'] = pd.to_datetime(search['exit_date_adjusted'])\n",
    "\n",
    "#df['date_column'] = pd.to_datetime(df['datetime_column']).dt.date\n"
   ]
  },
  {
   "cell_type": "code",
   "execution_count": null,
   "id": "b5bfbab9",
   "metadata": {},
   "outputs": [],
   "source": [
    "search"
   ]
  },
  {
   "cell_type": "code",
   "execution_count": null,
   "id": "1df19afa",
   "metadata": {},
   "outputs": [],
   "source": [
    "search['Adjusted_Count'] = search['reopen_date'] - search['exit_date_adjusted']\n",
    "search.head()"
   ]
  },
  {
   "cell_type": "code",
   "execution_count": null,
   "id": "6cdb601d",
   "metadata": {},
   "outputs": [],
   "source": [
    "for index, row in search.iterrows():\n",
    "    if ((row['exit_date_adjusted'] > row['Initial IFSP Date']) and\n",
    "        (row['exit_date_adjusted'] < row['Exit Date']) and\n",
    "        (row['reopen_date'] > row['Initial IFSP Date']) and\n",
    "        (row['reopen_date'] < row['Exit Date'])):\n",
    "        diff_days = (row['reopen_date'] - row['exit_date_adjusted']).days\n",
    "        search.at[index, 'diff_days'] = diff_days\n",
    "    else:\n",
    "        search.at[index, 'diff_days'] = np.nan"
   ]
  },
  {
   "cell_type": "code",
   "execution_count": null,
   "id": "89967829",
   "metadata": {},
   "outputs": [],
   "source": [
    "search.head()"
   ]
  },
  {
   "cell_type": "code",
   "execution_count": null,
   "id": "a0d48a05",
   "metadata": {},
   "outputs": [],
   "source": [
    "search_filtered = search[search['diff_days'].notnull()]\n",
    "search.head()"
   ]
  },
  {
   "cell_type": "code",
   "execution_count": null,
   "id": "950c18e1",
   "metadata": {},
   "outputs": [],
   "source": [
    "num_rows = search_filtered.shape[0]\n",
    "num_rows"
   ]
  },
  {
   "cell_type": "code",
   "execution_count": null,
   "id": "e7a613fe",
   "metadata": {},
   "outputs": [],
   "source": [
    "search_filtered['Exit Note'].str.count('(Exit Date: \\d+.\\d+.\\d+)')\n",
    "search_filtered['Exit Note'].str.count('(Reopened: \\d+.\\d+.\\d+)')\n"
   ]
  },
  {
   "cell_type": "code",
   "execution_count": null,
   "id": "502abc63",
   "metadata": {
    "scrolled": true
   },
   "outputs": [],
   "source": [
    "search['Exit_Count'] = search[\"Exit Note\"].str.count('(Exit Date: \\d+.\\d+.\\d+)')\n",
    "search['Reopen_Count'] = search[\"Exit Note\"].str.count('(Reopened: \\d+.\\d+.\\d+)')\n",
    "search.head()\n",
    "#ddid_search['Exit Note'].str.count('(Reopened: \\d+.\\d+.\\d+)')\n"
   ]
  },
  {
   "cell_type": "code",
   "execution_count": null,
   "id": "30fe0fa0",
   "metadata": {},
   "outputs": [],
   "source": [
    "search_edit = search\n",
    "search_edit.head(1)"
   ]
  },
  {
   "cell_type": "code",
   "execution_count": null,
   "id": "e5da24aa",
   "metadata": {
    "scrolled": true
   },
   "outputs": [],
   "source": [
    "search_edit['summed_counts'] = search_edit['Exit_Count'] + search_edit['Reopen_Count']\n",
    "search_edit"
   ]
  },
  {
   "cell_type": "code",
   "execution_count": null,
   "id": "1b534d81",
   "metadata": {},
   "outputs": [],
   "source": [
    "newexit = pd.to_datetime(search_edit['Exit Note'].str.extractall('Exit Date: (\\d+.\\d+.\\d+)')[0]).unstack()\n",
    "newexit.columns = ['exit_' + str(col + 1) for col in newexit.columns]\n",
    "newexit"
   ]
  },
  {
   "cell_type": "code",
   "execution_count": null,
   "id": "ab3f744d",
   "metadata": {},
   "outputs": [],
   "source": [
    "newenter = pd.to_datetime(search_edit['Exit Note'].str.extractall('Reopened: (\\d+.\\d+.\\d+)')[0]).unstack()\n",
    "newenter.columns = ['enter_' + str(col + 1) for col in newenter.columns]\n",
    "newenter"
   ]
  },
  {
   "cell_type": "code",
   "execution_count": null,
   "id": "db2405a1",
   "metadata": {},
   "outputs": [],
   "source": [
    "rentry_df = pd.merge(newexit, newenter, left_index=True, right_index=True)\n",
    "#rentry_df.to_csv('re-enter.csv')"
   ]
  },
  {
   "cell_type": "code",
   "execution_count": null,
   "id": "73db4b7f",
   "metadata": {},
   "outputs": [],
   "source": [
    "search_all = pd.merge(search_edit,  rentry_df,  left_index=True, right_index=True)"
   ]
  },
  {
   "cell_type": "code",
   "execution_count": null,
   "id": "f17fe88f",
   "metadata": {},
   "outputs": [],
   "source": [
    "#search_all.to_csv('search_all.csv')"
   ]
  },
  {
   "cell_type": "code",
   "execution_count": null,
   "id": "30410732",
   "metadata": {
    "scrolled": true
   },
   "outputs": [],
   "source": [
    "search_all.columns"
   ]
  },
  {
   "cell_type": "code",
   "execution_count": null,
   "id": "4bb79a3a",
   "metadata": {},
   "outputs": [],
   "source": [
    "for index, row in search_all.iterrows():\n",
    "    new_diff = 0\n",
    "    for num in range(1,7):\n",
    "        if ((row[f'exit_{num}'] != row[f'enter_{num}']) and\n",
    "            (row[f'exit_{num}'] != np.nan)  and\n",
    "            (row[f'enter_{num}'] != np.nan) and\n",
    "            (row[f'exit_{num}'] > row['Initial IFSP Date']) and\n",
    "            (row[f'exit_{num}'] < row['Exit Date']) and\n",
    "            (row[f'enter_{num}'] > row['Initial IFSP Date']) and\n",
    "            (row[f'enter_{num}'] < row['Exit Date'])):\n",
    "            mult_diff_days = (row[f'enter_{num}'] - row[f'exit_{num}']).days\n",
    "            new_diff += mult_diff_days\n",
    "            search_all.at[index, 'diff_days_new'] = new_diff\n",
    "        else:\n",
    "            pass\n",
    "#print(search_all.head(15))\n",
    "#search_all.to_csv('search_all.csv')"
   ]
  },
  {
   "cell_type": "code",
   "execution_count": null,
   "id": "98e27f78",
   "metadata": {},
   "outputs": [],
   "source": [
    "#import pandas as pd\n",
    "\n",
    "#df = {\"A1\":[15,25], \"B1\": [30, 40], \"A2\":[50,60], \"B2\": [70, 80]}\n",
    "#df = pd.DataFrame(df)\n",
    "#first_cols = [\"A1\", \"B1\"]\n",
    "#second_cols = [\"A2\", \"B2\"]\n",
    "\n",
    "#sub_cols = [\"A_sub\",\"B_sub\"]\n",
    "\n",
    "#df[sub_cols] = df[first_cols] - df[second_cols].values\n"
   ]
  },
  {
   "cell_type": "code",
   "execution_count": null,
   "id": "86102bf9",
   "metadata": {},
   "outputs": [],
   "source": [
    "\n",
    "search_all['new_calc_date'] = search_all['Days from I-IFSP to Exit'] + search_all['diff_days_new']\n",
    "search_all"
   ]
  },
  {
   "cell_type": "code",
   "execution_count": null,
   "id": "16855b56",
   "metadata": {},
   "outputs": [],
   "source": [
    "\n",
    "search_all['Exit Note'].str.extract('(Exit Reason: )').unstack()"
   ]
  },
  {
   "cell_type": "code",
   "execution_count": null,
   "id": "5d43d22d",
   "metadata": {},
   "outputs": [],
   "source": [
    "#newexit = pd.to_datetime(search_edit['Exit Note'].str.extractall('Exit Reason: (\\d+.\\d+.\\d+)')[0]).unstack()\n",
    "#newexit.columns = ['exit_' + str(col + 1) for col in newexit.columns]\n",
    "newexit"
   ]
  },
  {
   "cell_type": "code",
   "execution_count": null,
   "id": "c9957320",
   "metadata": {},
   "outputs": [],
   "source": [
    "c = ddid['Exit Note'].str.partition('(Exit Reason:)')[0]\n",
    "c"
   ]
  },
  {
   "cell_type": "markdown",
   "id": "b95cb2af",
   "metadata": {},
   "source": [
    "pandas.pivot_table(data, values=None, index=None, columns=None, aggfunc='mean', \n",
    "                   fill_value=None, margins=False, dropna=True, margins_name='All', \n",
    "                   observed=False, sort=True)[source]"
   ]
  },
  {
   "cell_type": "code",
   "execution_count": null,
   "id": "d289d27f",
   "metadata": {},
   "outputs": [],
   "source": [
    "pd.pivot_table(search_all, values='new_calc_date', index=['POE'], columns=['Exit Reason'], aggfunc=np.sum)"
   ]
  },
  {
   "cell_type": "code",
   "execution_count": null,
   "id": "bec219d5",
   "metadata": {},
   "outputs": [],
   "source": [
    "# read 2nd sheet of an excel file\n",
    "eco = pd.read_excel(r\"/Users/brentcleland/NSS/Projects/ddid-rasberry-pi/data/TEIS Exit Data for NSS.xlsx\", sheet_name =2)"
   ]
  },
  {
   "cell_type": "code",
   "execution_count": null,
   "id": "73433e4e",
   "metadata": {},
   "outputs": [],
   "source": [
    "#print(eco.head())"
   ]
  },
  {
   "cell_type": "code",
   "execution_count": null,
   "id": "06ba8f6a",
   "metadata": {},
   "outputs": [],
   "source": [
    "pivot = pd.merge(search_all, eco, how='left', left_on='Child ID', right_on ='CHILD_ID')\n",
    "#rentry_df.to_csv('re-enter.csv')"
   ]
  },
  {
   "cell_type": "code",
   "execution_count": null,
   "id": "5aee3d98",
   "metadata": {},
   "outputs": [],
   "source": [
    "pivot\n"
   ]
  },
  {
   "cell_type": "code",
   "execution_count": null,
   "id": "0f3beace",
   "metadata": {},
   "outputs": [],
   "source": [
    "oc1 = pd.pivot_table(pivot, values='new_calc_date', index= ['POE'], columns=('OC1 - b' ),\n",
    "                     aggfunc=np.mean, margins=sum)\n",
    "oc1"
   ]
  },
  {
   "cell_type": "code",
   "execution_count": null,
   "id": "ed341c92",
   "metadata": {},
   "outputs": [],
   "source": [
    "oc2 = pd.pivot_table(pivot, values='new_calc_date', index= ['POE'], columns=('OC2 - b' ),\n",
    "                     aggfunc=np.median, margins=sum)\n",
    "oc2"
   ]
  },
  {
   "cell_type": "code",
   "execution_count": null,
   "id": "fccbdf60",
   "metadata": {},
   "outputs": [],
   "source": [
    "oc3 = pd.pivot_table(pivot, values='new_calc_date', index= ['POE'], columns=('OC3 - b',\n",
    "                                                                            ) ,aggfunc=np.mean, margins=sum)\n",
    "oc3"
   ]
  },
  {
   "cell_type": "code",
   "execution_count": null,
   "id": "85d102a5",
   "metadata": {},
   "outputs": [],
   "source": [
    "oc1 = pd.pivot_table(pivot, values='new_calc_date', index= ['POE'], columns=('OC1 - d' ),aggfunc=np.mean, margins=sum)\n",
    "oc2 = pd.pivot_table(pivot, values='new_calc_date', index= ['POE'], columns=('OC2 - d' ),aggfunc=np.mean, margins=sum)\n",
    "oc3 = pd.pivot_table(pivot, values='new_calc_date', index= ['POE'], columns=('OC3 - d' ),aggfunc=np.mean, margins=sum)\n",
    "oc1.to_csv('oc1d.csv')\n",
    "oc2.to_csv('oc2d.csv')\n",
    "oc3.to_csv('oc3d.csv')"
   ]
  },
  {
   "cell_type": "code",
   "execution_count": null,
   "id": "08b406a5",
   "metadata": {},
   "outputs": [],
   "source": []
  }
 ],
 "metadata": {
  "kernelspec": {
   "display_name": "Python 3",
   "language": "python",
   "name": "python3"
  },
  "language_info": {
   "codemirror_mode": {
    "name": "ipython",
    "version": 3
   },
   "file_extension": ".py",
   "mimetype": "text/x-python",
   "name": "python",
   "nbconvert_exporter": "python",
   "pygments_lexer": "ipython3",
   "version": "3.8.8"
  }
 },
 "nbformat": 4,
 "nbformat_minor": 5
}
