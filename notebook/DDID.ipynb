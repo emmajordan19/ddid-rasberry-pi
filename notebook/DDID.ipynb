{
 "cells": [
  {
   "cell_type": "code",
   "execution_count": null,
   "id": "a8b77824",
   "metadata": {},
   "outputs": [],
   "source": [
    "import pandas as pd\n",
    "import re\n",
    "import datetime as dt\n",
    "import numpy as np"
   ]
  },
  {
   "cell_type": "code",
   "execution_count": null,
   "id": "cbcd2a69",
   "metadata": {},
   "outputs": [],
   "source": [
    "# read 2nd sheet of an excel file\n",
    "ddid = pd.read_excel(r\"/Users/brentcleland/NSS/Projects/ddid-rasberry-pi/data/TEIS Exit Data for NSS.xlsx\", sheet_name =3)"
   ]
  },
  {
   "cell_type": "code",
   "execution_count": null,
   "id": "898cfb94",
   "metadata": {},
   "outputs": [],
   "source": [
    "ddid[['Child ID', 'DOB', 'Initial IFSP Date', 'Exit Date', 'Exit Reason', 'Exit Note']]"
   ]
  },
  {
   "cell_type": "code",
   "execution_count": null,
   "id": "cb586401",
   "metadata": {},
   "outputs": [],
   "source": [
    "ddid_filtered = ddid[ddid['Exit Note'].notnull()]\n",
    "ddid_filtered.head()"
   ]
  },
  {
   "cell_type": "code",
   "execution_count": null,
   "id": "400c4db8",
   "metadata": {},
   "outputs": [],
   "source": [
    "#ddid_filtered['Exit Note']"
   ]
  },
  {
   "cell_type": "code",
   "execution_count": null,
   "id": "9449f431",
   "metadata": {},
   "outputs": [],
   "source": [
    "#ddid_filtered.loc[ddid_filtered['Exit Note'].str.contains(r\"(\\d+/\\d+/\\d+)\", case=False)]\n"
   ]
  },
  {
   "cell_type": "code",
   "execution_count": null,
   "id": "ba07b939",
   "metadata": {},
   "outputs": [],
   "source": [
    "search.to_csv('new_filter.csv')"
   ]
  },
  {
   "cell_type": "code",
   "execution_count": null,
   "id": "ac1ccefd",
   "metadata": {},
   "outputs": [],
   "source": [
    "search = ddid_filtered.loc[ddid_filtered['Exit Note'].str.contains('(Reopened:)\\s\\d{2}/\\d{2}/\\d{4}\\s(Exit Date:)\\s\\d{2}/\\d{2}/\\d{4}')]\n",
    "search.head()"
   ]
  },
  {
   "cell_type": "code",
   "execution_count": null,
   "id": "0cbc3880",
   "metadata": {},
   "outputs": [],
   "source": [
    "search['Exit Note'].str.extract(r'(Reopened:\\d{2}/\\d{2}/\\d{4})')\n",
    "search.head(2)"
   ]
  },
  {
   "cell_type": "markdown",
   "id": "30de437e",
   "metadata": {},
   "source": [
    "Findall messed up the str function below we used extract"
   ]
  },
  {
   "cell_type": "code",
   "execution_count": null,
   "id": "38f9033c",
   "metadata": {
    "scrolled": true
   },
   "outputs": [],
   "source": [
    "#search['Exit Note'].str.findall(r'Reopened:\\d{2}/\\d{2}/\\d{4}')\n",
    "#search.head(2)"
   ]
  },
  {
   "cell_type": "code",
   "execution_count": null,
   "id": "a35f228d",
   "metadata": {},
   "outputs": [],
   "source": [
    "dates = search['Exit Note'].str.extract(r'(Reopened: \\d{2}/\\d{2}/\\d{4}) (Exit Date: \\d{2}/\\d{2}/\\d{4})')\n",
    "dates"
   ]
  },
  {
   "cell_type": "code",
   "execution_count": null,
   "id": "bd597002",
   "metadata": {},
   "outputs": [],
   "source": [
    "#dates = search['Exit Note'].str.findall(r'(Reopened: \\d{2}/\\d{2}/\\d{4}) (Exit Date: \\d{2}/\\d{2}/\\d{4})')\n",
    "#dates"
   ]
  },
  {
   "cell_type": "code",
   "execution_count": null,
   "id": "f20f8919",
   "metadata": {},
   "outputs": [],
   "source": [
    "reopen_adjusted = search['Exit Note'].str.extract(r'(Reopened: \\d{2}/\\d{2}/\\d{4})')\n",
    "reopen_adjusted"
   ]
  },
  {
   "cell_type": "code",
   "execution_count": null,
   "id": "bb2eacc8",
   "metadata": {},
   "outputs": [],
   "source": [
    "#reopen_adjusted = search['Exit Note'].str.findall(r'(Reopened: \\d{2}/\\d{2}/\\d{4})')\n",
    "#reopen_adjusted"
   ]
  },
  {
   "cell_type": "code",
   "execution_count": null,
   "id": "e7051657",
   "metadata": {},
   "outputs": [],
   "source": [
    "exit_adjusted  =search['Exit Note'].str.extract(r'(Exit Date: \\d{2}/\\d{2}/\\d{4})')\n",
    "exit_adjusted"
   ]
  },
  {
   "cell_type": "code",
   "execution_count": null,
   "id": "1b5e0e6a",
   "metadata": {
    "scrolled": true
   },
   "outputs": [],
   "source": [
    "#exit_adjusted  =search['Exit Note'].str.findall(r'(Exit Date: \\d{2}/\\d{2}/\\d{4})')\n",
    "#exit_adjusted"
   ]
  },
  {
   "cell_type": "code",
   "execution_count": null,
   "id": "4833b763",
   "metadata": {},
   "outputs": [],
   "source": [
    "exit_adjusted1=search['Exit Note'].str.findall(r'\\d{2}/\\d{2}/\\d{4}')\n",
    "exit_adjusted1"
   ]
  },
  {
   "cell_type": "code",
   "execution_count": null,
   "id": "3e2b22c1",
   "metadata": {},
   "outputs": [],
   "source": [
    "search['reopen_date'] = reopen_adjusted\n",
    "search.head()"
   ]
  },
  {
   "cell_type": "code",
   "execution_count": null,
   "id": "2dd2bd0b",
   "metadata": {},
   "outputs": [],
   "source": [
    "search['exit_date_adjusted'] = exit_adjusted\n",
    "search.head()"
   ]
  },
  {
   "cell_type": "code",
   "execution_count": null,
   "id": "17288aff",
   "metadata": {},
   "outputs": [],
   "source": [
    "#search['exit_date_adjusted'] = search['exit_date_adjusted'].str.extract('(\\d+.\\d+.\\d+)')\n",
    "#search"
   ]
  },
  {
   "cell_type": "code",
   "execution_count": null,
   "id": "4faf06dd",
   "metadata": {},
   "outputs": [],
   "source": [
    "exit_val = search['exit_date_adjusted'].str.extract('(\\d+.\\d+.\\d+)')\n"
   ]
  },
  {
   "cell_type": "code",
   "execution_count": null,
   "id": "681b1868",
   "metadata": {},
   "outputs": [],
   "source": [
    "reopen_val = search['reopen_date'].str.extract('(\\d+.\\d+.\\d+)')\n"
   ]
  },
  {
   "cell_type": "code",
   "execution_count": null,
   "id": "484b791a",
   "metadata": {},
   "outputs": [],
   "source": [
    "search['reopen_date'] = reopen_val\n",
    "search.head()"
   ]
  },
  {
   "cell_type": "code",
   "execution_count": null,
   "id": "a7de6a30",
   "metadata": {},
   "outputs": [],
   "source": [
    "search['exit_date_adjusted'] = exit_val\n",
    "search.head()"
   ]
  },
  {
   "cell_type": "code",
   "execution_count": null,
   "id": "df35d67e",
   "metadata": {},
   "outputs": [],
   "source": [
    "display(search.dtypes)"
   ]
  },
  {
   "cell_type": "code",
   "execution_count": null,
   "id": "a6929f2a",
   "metadata": {},
   "outputs": [],
   "source": [
    "#pd.to_datetime(df['your_time_column'])\n",
    "pd.to_datetime(search['reopen_date'])"
   ]
  },
  {
   "cell_type": "code",
   "execution_count": null,
   "id": "73ce42a2",
   "metadata": {},
   "outputs": [],
   "source": [
    "#pd.to_datetime(df['your_time_column'])\n",
    "pd.to_datetime(search['exit_date_adjusted'])"
   ]
  },
  {
   "cell_type": "code",
   "execution_count": null,
   "id": "881be2a8",
   "metadata": {},
   "outputs": [],
   "source": [
    "search['reopen_date'] = pd.to_datetime(search['reopen_date'])\n"
   ]
  },
  {
   "cell_type": "code",
   "execution_count": null,
   "id": "2c9c34d3",
   "metadata": {},
   "outputs": [],
   "source": [
    "search['exit_date_adjusted'] = pd.to_datetime(search['exit_date_adjusted'])\n",
    "\n",
    "#df['date_column'] = pd.to_datetime(df['datetime_column']).dt.date\n"
   ]
  },
  {
   "cell_type": "code",
   "execution_count": null,
   "id": "b5bfbab9",
   "metadata": {},
   "outputs": [],
   "source": [
    "search"
   ]
  },
  {
   "cell_type": "code",
   "execution_count": null,
   "id": "1df19afa",
   "metadata": {},
   "outputs": [],
   "source": [
    "search['Adjusted_Count'] = search['reopen_date'] - search['exit_date_adjusted']\n",
    "search.head()"
   ]
  },
  {
   "cell_type": "code",
   "execution_count": null,
   "id": "6cdb601d",
   "metadata": {},
   "outputs": [],
   "source": [
    "for index, row in search.iterrows():\n",
    "    if ((row['exit_date_adjusted'] > row['Initial IFSP Date']) and\n",
    "        (row['exit_date_adjusted'] < row['Exit Date']) and\n",
    "        (row['reopen_date'] > row['Initial IFSP Date']) and\n",
    "        (row['reopen_date'] < row['Exit Date'])):\n",
    "        diff_days = (row['reopen_date'] - row['exit_date_adjusted']).days\n",
    "        search.at[index, 'diff_days'] = diff_days\n",
    "    else:\n",
    "        search.at[index, 'diff_days'] = np.nan"
   ]
  },
  {
   "cell_type": "code",
   "execution_count": null,
   "id": "89967829",
   "metadata": {},
   "outputs": [],
   "source": [
    "search.head()"
   ]
  },
  {
   "cell_type": "code",
   "execution_count": null,
   "id": "a0d48a05",
   "metadata": {},
   "outputs": [],
   "source": [
    "search = search[searchd['diff_days'].notnull()]\n",
    "ddid_filtered.head()"
   ]
  }
 ],
 "metadata": {
  "kernelspec": {
   "display_name": "Python 3",
   "language": "python",
   "name": "python3"
  },
  "language_info": {
   "codemirror_mode": {
    "name": "ipython",
    "version": 3
   },
   "file_extension": ".py",
   "mimetype": "text/x-python",
   "name": "python",
   "nbconvert_exporter": "python",
   "pygments_lexer": "ipython3",
   "version": "3.8.8"
  }
 },
 "nbformat": 4,
 "nbformat_minor": 5
}
