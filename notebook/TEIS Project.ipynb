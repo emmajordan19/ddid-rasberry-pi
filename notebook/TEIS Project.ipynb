{
 "cells": [
  {
   "cell_type": "code",
   "execution_count": null,
   "id": "b89a689c",
   "metadata": {},
   "outputs": [],
   "source": [
    "import pandas as pd\n",
    "import numpy as np\n",
    "import re\n",
    "from datetime import datetime"
   ]
  },
  {
   "cell_type": "code",
   "execution_count": null,
   "id": "be4d15e7",
   "metadata": {},
   "outputs": [],
   "source": [
    "TEIS = pd.read_excel(r\"C:\\Users\\mnorm\\Documents\\NSS\\Python\\Projects\\ddid-rasberry-pi\\data\\TEIS Exit Data for NSS.xlsx\", sheet_name = 3)"
   ]
  },
  {
   "cell_type": "code",
   "execution_count": null,
   "id": "7c185882",
   "metadata": {},
   "outputs": [],
   "source": [
    "TEIS_subset = TEIS[['Child ID', 'DOB', 'Initial IFSP Date', 'Exit Date','Days from I-IFSP to Exit', 'Exit Note']]\n",
    "TEIS_subset"
   ]
  },
  {
   "cell_type": "markdown",
   "id": "fddac303",
   "metadata": {},
   "source": [
    "### Removing Rows with Null Values in the Exit Note Column"
   ]
  },
  {
   "cell_type": "code",
   "execution_count": null,
   "id": "40394b79",
   "metadata": {},
   "outputs": [],
   "source": [
    "TEIS_filt = TEIS_subset[TEIS_subset['Exit Note'].notnull()]\n",
    "pd.set_option('display.max_colwidth', None)\n",
    "TEIS_filt"
   ]
  },
  {
   "cell_type": "markdown",
   "id": "a7f4b2d8",
   "metadata": {},
   "source": [
    "### Filtering for Exit Notes that contain Dates"
   ]
  },
  {
   "cell_type": "code",
   "execution_count": null,
   "id": "2dc9df1e",
   "metadata": {},
   "outputs": [],
   "source": [
    "TEIS_with_dates = TEIS_filt.loc[TEIS_filt['Exit Note'].str.contains(r\"(\\d+/\\d+/\\d+)\", case=False)]\n",
    "TEIS_with_dates"
   ]
  },
  {
   "cell_type": "markdown",
   "id": "3438ddc5",
   "metadata": {},
   "source": [
    "### Filtering for Exit Notes that contain the phrase 'Reopened'"
   ]
  },
  {
   "cell_type": "code",
   "execution_count": null,
   "id": "39190d19",
   "metadata": {},
   "outputs": [],
   "source": [
    "TEIS_reopened = TEIS_with_dates.loc[TEIS_with_dates['Exit Note'].str.contains('reopened[a-z]*', flags=re.I, regex=True)]\n",
    "TEIS_reopened"
   ]
  },
  {
   "cell_type": "markdown",
   "id": "e15ecc7d",
   "metadata": {},
   "source": [
    "## Testing Regex"
   ]
  },
  {
   "cell_type": "code",
   "execution_count": null,
   "id": "3e44c8bd",
   "metadata": {},
   "outputs": [],
   "source": [
    "z = TEIS_reopened.loc[ 5, 'Exit Note']\n",
    "z"
   ]
  },
  {
   "cell_type": "code",
   "execution_count": null,
   "id": "0c9cd0b7",
   "metadata": {},
   "outputs": [],
   "source": [
    "#isolating the dates\n",
    "date = re.findall(r'\\d{2}/\\d{2}/\\d{4}', z)\n",
    "\n",
    "for dates in date :\n",
    "    print(dates)"
   ]
  },
  {
   "cell_type": "code",
   "execution_count": null,
   "id": "d9743d4d",
   "metadata": {},
   "outputs": [],
   "source": [
    "#isolating the string/date column to confirm I'm pulling the desired dates\n",
    "string = re.findall(r'Reopened: \\d{2}/\\d{2}/\\d{4} Exit Date: \\d{2}/\\d{2}/\\d{4}', z)\n",
    "string"
   ]
  },
  {
   "cell_type": "code",
   "execution_count": null,
   "id": "a1f090fe",
   "metadata": {},
   "outputs": [],
   "source": [
    "y = TEIS_reopened.loc[30, 'Exit Note']\n",
    "y"
   ]
  },
  {
   "cell_type": "code",
   "execution_count": null,
   "id": "335f17c5",
   "metadata": {},
   "outputs": [],
   "source": [
    "#ensuring that this expression will extract every occurance of this pattern within the string\n",
    "re.findall(r'Reopened: \\d{2}/\\d{2}/\\d{4} Exit Date: \\d{2}/\\d{2}/\\d{4}', y)"
   ]
  },
  {
   "cell_type": "code",
   "execution_count": null,
   "id": "5d682f04",
   "metadata": {},
   "outputs": [],
   "source": [
    "#splitting the pattern by Reopened/Exit Date so that they can go in separate columns\n",
    "w = re.findall(r'Reopened: \\d{2}/\\d{2}/\\d{4}', y)\n",
    "v = re.findall(r'Exit Date: \\d{2}/\\d{2}/\\d{4}', y)"
   ]
  },
  {
   "cell_type": "code",
   "execution_count": null,
   "id": "1e9a83ca",
   "metadata": {},
   "outputs": [],
   "source": [
    "ww = \" \".join(map(str,w))\n",
    "type(ww)"
   ]
  },
  {
   "cell_type": "code",
   "execution_count": null,
   "id": "088a6d65",
   "metadata": {},
   "outputs": [],
   "source": [
    "#extracting just the date from the reopened/exit date string\n",
    "re.findall(r'\\d{2}/\\d{2}/\\d{4}', ww)"
   ]
  },
  {
   "cell_type": "code",
   "execution_count": null,
   "id": "02efbfa6",
   "metadata": {},
   "outputs": [],
   "source": [
    "#try creating a for loop to extract the dates if converting to a string doesn't work\n",
    "re.findall(r'\\d{2}/\\d{2}/\\d{4}', w[0])"
   ]
  },
  {
   "cell_type": "markdown",
   "id": "00a65329",
   "metadata": {},
   "source": [
    "## Using Regex on DataFrame"
   ]
  },
  {
   "cell_type": "code",
   "execution_count": null,
   "id": "64117f3d",
   "metadata": {},
   "outputs": [],
   "source": [
    "x = TEIS_reopened[['Exit Note']]\n",
    "x"
   ]
  },
  {
   "cell_type": "code",
   "execution_count": null,
   "id": "d7bf6f09",
   "metadata": {},
   "outputs": [],
   "source": [
    "dates = TEIS_reopened['Exit Note'].str.findall(r'\\d{2}/\\d{2}/\\d{4}')\n",
    "dates"
   ]
  },
  {
   "cell_type": "code",
   "execution_count": null,
   "id": "4b5e6b10",
   "metadata": {},
   "outputs": [],
   "source": [
    "#string_col = TEIS_reopened['Exit Note'].str.findall(r'Reopened: \\d{2}/\\d{2}/\\d{4} Exit Date: \\d{2}/\\d{2}/\\d{4}')\n",
    "#string_col"
   ]
  },
  {
   "cell_type": "code",
   "execution_count": null,
   "id": "7bfd869f",
   "metadata": {},
   "outputs": [],
   "source": [
    "string_col = TEIS_reopened['Exit Note'].str.extract(r'(Reopened: \\d{2}/\\d{2}/\\d{4} Exit Date: \\d{2}/\\d{2}/\\d{4})')\n",
    "string_col"
   ]
  },
  {
   "cell_type": "code",
   "execution_count": null,
   "id": "30123576",
   "metadata": {},
   "outputs": [],
   "source": [
    "#reopened_dates = TEIS_reopened['Exit Note'].str.findall(r'Reopened: \\d{2}/\\d{2}/\\d{4}')\n",
    "#reopened_dates  "
   ]
  },
  {
   "cell_type": "code",
   "execution_count": null,
   "id": "9137e220",
   "metadata": {},
   "outputs": [],
   "source": [
    "reopened_dates = TEIS_reopened['Exit Note'].str.extract(r'(Reopened: \\d{2}/\\d{2}/\\d{4})')\n",
    "reopened_dates           "
   ]
  },
  {
   "cell_type": "code",
   "execution_count": null,
   "id": "1f122914",
   "metadata": {},
   "outputs": [],
   "source": [
    "#exit_dates = TEIS_reopened['Exit Note'].str.findall(r'Exit Date: \\d{2}/\\d{2}/\\d{4}')\n",
    "#exit_dates"
   ]
  },
  {
   "cell_type": "code",
   "execution_count": null,
   "id": "97d36358",
   "metadata": {},
   "outputs": [],
   "source": [
    "exit_dates = TEIS_reopened['Exit Note'].str.extract(r'(Exit Date: \\d{2}/\\d{2}/\\d{4})')\n",
    "exit_dates"
   ]
  },
  {
   "cell_type": "markdown",
   "id": "cef33b72",
   "metadata": {},
   "source": [
    "**Creating New Column for Reopened Dates** "
   ]
  },
  {
   "cell_type": "code",
   "execution_count": null,
   "id": "4f0fb746",
   "metadata": {},
   "outputs": [],
   "source": [
    "#TEIS_reopened['Reopened Dates'] = TEIS_reopened['Exit Note'].str.findall(r'Reopened: \\d{2}/\\d{2}/\\d{4}')"
   ]
  },
  {
   "cell_type": "code",
   "execution_count": null,
   "id": "a3e06161",
   "metadata": {},
   "outputs": [],
   "source": [
    "TEIS_reopened['Reopened Dates'] = TEIS_reopened['Exit Note'].str.extract(r'Reopened: (\\d{2}/\\d{2}/\\d{4})')"
   ]
  },
  {
   "cell_type": "markdown",
   "id": "c6d36529",
   "metadata": {},
   "source": [
    "**Creating New Column for Exit Dates** "
   ]
  },
  {
   "cell_type": "code",
   "execution_count": null,
   "id": "34a25fb3",
   "metadata": {},
   "outputs": [],
   "source": [
    "#TEIS_reopened['Exit Dates'] = TEIS_reopened['Exit Note'].str.findall(r'Exit Date: \\d{2}/\\d{2}/\\d{4}')"
   ]
  },
  {
   "cell_type": "code",
   "execution_count": null,
   "id": "97f8e104",
   "metadata": {},
   "outputs": [],
   "source": [
    "TEIS_reopened['Exit Dates'] = TEIS_reopened['Exit Note'].str.extract(r'Exit Date: (\\d{2}/\\d{2}/\\d{4})')"
   ]
  },
  {
   "cell_type": "code",
   "execution_count": null,
   "id": "683c658a",
   "metadata": {},
   "outputs": [],
   "source": [
    "TEIS_reopened"
   ]
  },
  {
   "cell_type": "markdown",
   "id": "36029b3e",
   "metadata": {},
   "source": [
    "**Converting to Datetime**"
   ]
  },
  {
   "cell_type": "code",
   "execution_count": null,
   "id": "cc11acb4",
   "metadata": {},
   "outputs": [],
   "source": [
    "TEIS_reopened.dtypes"
   ]
  },
  {
   "cell_type": "code",
   "execution_count": null,
   "id": "6826b411",
   "metadata": {},
   "outputs": [],
   "source": [
    "TEIS_reopened['Reopened Dates'] = pd.to_datetime(TEIS_reopened['Reopened Dates'])"
   ]
  },
  {
   "cell_type": "code",
   "execution_count": null,
   "id": "2b244eb5",
   "metadata": {},
   "outputs": [],
   "source": [
    "TEIS_reopened.dtypes"
   ]
  },
  {
   "cell_type": "code",
   "execution_count": null,
   "id": "01864c57",
   "metadata": {},
   "outputs": [],
   "source": [
    "TEIS_reopened['Exit Dates'] = pd.to_datetime(TEIS_reopened['Exit Dates'])"
   ]
  },
  {
   "cell_type": "code",
   "execution_count": null,
   "id": "8a65bc73",
   "metadata": {},
   "outputs": [],
   "source": [
    "TEIS_reopened.dtypes"
   ]
  },
  {
   "cell_type": "markdown",
   "id": "0bce39ee",
   "metadata": {},
   "source": [
    "**Subtracting the Dates**"
   ]
  },
  {
   "cell_type": "code",
   "execution_count": null,
   "id": "b0efaf0c",
   "metadata": {},
   "outputs": [],
   "source": [
    "TEIS_reopened['Time Elapsed(Days)'] = (TEIS_reopened['Reopened Dates'] - TEIS_reopened['Exit Dates']).dt.days"
   ]
  },
  {
   "cell_type": "code",
   "execution_count": null,
   "id": "4cb7b252",
   "metadata": {},
   "outputs": [],
   "source": [
    "TEIS_reopened"
   ]
  },
  {
   "cell_type": "code",
   "execution_count": null,
   "id": "b61cb8b1",
   "metadata": {},
   "outputs": [],
   "source": [
    "TEIS_reopened.dtypes"
   ]
  },
  {
   "cell_type": "code",
   "execution_count": null,
   "id": "d5711fc2",
   "metadata": {},
   "outputs": [],
   "source": [
    "TEIS_reopened['Real IFSP to Exit Time (Days)'] = (TEIS_reopened['Days from I-IFSP to Exit'] - TEIS_reopened['Time Elapsed(Days)'])"
   ]
  },
  {
   "cell_type": "code",
   "execution_count": null,
   "id": "af5b0e1f",
   "metadata": {},
   "outputs": [],
   "source": [
    "TEIS_reopened = TEIS_reopened.drop(columns = 'Real IFSP to Exit Time')"
   ]
  },
  {
   "cell_type": "code",
   "execution_count": null,
   "id": "fa5f74fd",
   "metadata": {},
   "outputs": [],
   "source": [
    "TEIS_reopened"
   ]
  },
  {
   "cell_type": "markdown",
   "id": "03995d3e",
   "metadata": {},
   "source": [
    "REATTEMPT LATER"
   ]
  },
  {
   "cell_type": "code",
   "execution_count": null,
   "id": "8e4b64cf",
   "metadata": {},
   "outputs": [],
   "source": [
    "#https://pandas.pydata.org/docs/reference/api/pandas.Series.iteritems.html\n",
    "#pattern = re.findall(r'(?<=Reopened:)\\d{2}/\\d{2}/\\d{4}')\n",
    "#((?<=Reopened: )|(?<=Exit Date: ))"
   ]
  },
  {
   "cell_type": "code",
   "execution_count": null,
   "id": "e6b59087",
   "metadata": {},
   "outputs": [],
   "source": [
    "#try to get just the reopened and exit dates [COMPLETE]\n",
    "#look into doing a left join between reopened_dates and exit_dates dataframes just to do the math with extractall as regex method\n",
    "#figure out if you can subtract them from each other"
   ]
  },
  {
   "cell_type": "code",
   "execution_count": null,
   "id": "80a24507",
   "metadata": {},
   "outputs": [],
   "source": []
  }
 ],
 "metadata": {
  "kernelspec": {
   "display_name": "Python 3 (ipykernel)",
   "language": "python",
   "name": "python3"
  },
  "language_info": {
   "codemirror_mode": {
    "name": "ipython",
    "version": 3
   },
   "file_extension": ".py",
   "mimetype": "text/x-python",
   "name": "python",
   "nbconvert_exporter": "python",
   "pygments_lexer": "ipython3",
   "version": "3.9.7"
  }
 },
 "nbformat": 4,
 "nbformat_minor": 5
}
