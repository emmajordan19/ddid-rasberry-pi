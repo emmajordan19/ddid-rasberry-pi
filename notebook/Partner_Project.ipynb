{
 "cells": [
  {
   "cell_type": "code",
   "execution_count": null,
   "id": "d443cd0e",
   "metadata": {},
   "outputs": [],
   "source": [
    "import pandas as pd\n",
    "import datetime as dt\n",
    "import re as re\n",
    "import numpy as np\n",
    "import matplotlib.pyplot as plt"
   ]
  },
  {
   "cell_type": "code",
   "execution_count": null,
   "id": "6880115a",
   "metadata": {},
   "outputs": [],
   "source": [
    "ddid = pd.read_excel(r\"C:\\Users\\emmaj\\Documents\\NSS\\Python\\Projects\\ddid-rasberry-pi\\data\\TEIS Exit Data for NSS.xlsx\", sheet_name = 3)\n",
    "pd.set_option('display.max_colwidth', None)\n",
    "ddid"
   ]
  },
  {
   "cell_type": "code",
   "execution_count": null,
   "id": "0bd1f21e",
   "metadata": {},
   "outputs": [],
   "source": [
    "ddid = pd.DataFrame(ddid)\n",
    "pd.set_option('display.max_colwidth', None)\n",
    "ddid.head()\n",
    "\n",
    "ddid_mvp = ddid[['Child ID', 'DOB', 'Initial IFSP Date', 'Days from I-IFSP to Exit', 'Exit Date', 'Exit Reason', 'Exit Note']]\n",
    "\n",
    "ddid_mvp_filtered = ddid_mvp[ddid_mvp['Exit Note'].notnull()]\n",
    "pd.set_option('display.max_colwidth', None)\n",
    "ddid_mvp_filtered.tail()\n",
    "\n",
    "ddid_mvp_filtered.loc[ddid_mvp_filtered['Exit Note'].str.contains(r\"(\\d+/\\d+/\\d+)\", case=False)]"
   ]
  },
  {
   "cell_type": "code",
   "execution_count": null,
   "id": "3ce38b60",
   "metadata": {
    "scrolled": true
   },
   "outputs": [],
   "source": [
    "ddid_mvp_filtered = ddid_mvp_filtered.loc[ddid_mvp_filtered['Exit Note'].str.contains('reopen[a-z]*', flags=re.I, regex=True)]"
   ]
  },
  {
   "cell_type": "code",
   "execution_count": null,
   "id": "cd99ed2f",
   "metadata": {},
   "outputs": [],
   "source": []
  },
  {
   "cell_type": "code",
   "execution_count": null,
   "id": "d0dcd0aa",
   "metadata": {},
   "outputs": [],
   "source": [
    "ddid_mvp_filtered['Reopened Date'] = ddid_mvp_filtered['Exit Note'].str.extract(r'Reopened: (\\d{2}/\\d{2}/\\d{4})')\n",
    "ddid_mvp_filtered"
   ]
  },
  {
   "cell_type": "code",
   "execution_count": null,
   "id": "fb861c02",
   "metadata": {},
   "outputs": [],
   "source": [
    "ddid_mvp_filtered['rExit Date'] = ddid_mvp_filtered['Exit Note'].str.extract(r'Exit Date: (\\d{2}/\\d{2}/\\d{4})')\n",
    "ddid_mvp_filtered"
   ]
  },
  {
   "cell_type": "code",
   "execution_count": null,
   "id": "6238e76c",
   "metadata": {},
   "outputs": [],
   "source": [
    "ddid_mvp_filtered['reopen'] = pd.to_datetime(ddid_mvp_filtered['Reopened Date'])\n",
    "ddid_mvp_filtered"
   ]
  },
  {
   "cell_type": "code",
   "execution_count": null,
   "id": "f4a49cc5",
   "metadata": {},
   "outputs": [],
   "source": [
    "ddid_mvp_filtered['exit'] = pd.to_datetime(ddid_mvp_filtered['rExit Date'])\n",
    "ddid_mvp_filtered"
   ]
  },
  {
   "cell_type": "code",
   "execution_count": null,
   "id": "9367d63d",
   "metadata": {
    "scrolled": true
   },
   "outputs": [],
   "source": [
    "ddid_mvp_filtered['difference'] = ddid_mvp_filtered['reopen']-ddid_mvp_filtered['exit']\n",
    "ddid_mvp_filtered"
   ]
  },
  {
   "cell_type": "code",
   "execution_count": null,
   "id": "ac43409b",
   "metadata": {},
   "outputs": [],
   "source": []
  },
  {
   "cell_type": "code",
   "execution_count": null,
   "id": "bdc4d24c",
   "metadata": {},
   "outputs": [],
   "source": [
    "for index, row in ddid_mvp_filtered.iterrows():\n",
    "    if ((row['exit'] > row['Initial IFSP Date']) and\n",
    "        (row['exit'] < row['Exit Date']) and\n",
    "        (row['reopen'] > row['Initial IFSP Date']) and\n",
    "        (row['reopen'] < row['Exit Date'])):\n",
    "        diff_days = (row['reopen'] - row['exit']).days\n",
    "        ddid_mvp_filtered.at[index, 'diff_days'] = diff_days\n",
    "    else:\n",
    "        ddid_mvp_filtered.at[index, 'diff_days'] = np.nan\n"
   ]
  },
  {
   "cell_type": "code",
   "execution_count": null,
   "id": "bd0efc10",
   "metadata": {},
   "outputs": [],
   "source": [
    "ddid_mvp_filtered"
   ]
  },
  {
   "cell_type": "code",
   "execution_count": null,
   "id": "63063c27",
   "metadata": {},
   "outputs": [],
   "source": [
    "newexit = pd.to_datetime(ddid_mvp_filtered['Exit Note'].str.extractall('Exit Date: (\\d+.\\d+.\\d+)')[0]).unstack()\n",
    "newexit.columns = ['exit_' + str(col + 1) for col in newexit.columns]\n",
    "newexit"
   ]
  },
  {
   "cell_type": "code",
   "execution_count": null,
   "id": "e9651504",
   "metadata": {},
   "outputs": [],
   "source": [
    "newenter = pd.to_datetime(ddid_mvp_filtered['Exit Note'].str.extractall('Reopened: (\\d+.\\d+.\\d+)')[0]).unstack()\n",
    "newenter.columns = ['reopen_'+str(col+1) for col in newenter.columns]\n",
    "newenter"
   ]
  },
  {
   "cell_type": "code",
   "execution_count": null,
   "id": "ae40cf23",
   "metadata": {},
   "outputs": [],
   "source": [
    "open_exit = newexit.join(newenter)\n",
    "open_exit"
   ]
  },
  {
   "cell_type": "code",
   "execution_count": null,
   "id": "319cde40",
   "metadata": {},
   "outputs": [],
   "source": [
    "new = ddid_mvp_filtered.join(open_exit)\n",
    "new"
   ]
  },
  {
   "cell_type": "code",
   "execution_count": null,
   "id": "73a5c09c",
   "metadata": {},
   "outputs": [],
   "source": [
    "for index, row in new.iterrows():\n",
    "    new_diff = 0\n",
    "    for num in range(1,6):\n",
    "        if ((row[f'exit_{num}'] != row[f'reopen_{num}']) and\n",
    "            (row[f'exit_{num}'] != np.nan)  and\n",
    "            (row[f'reopen_{num}'] != np.nan) and\n",
    "            (row[f'exit_{num}'] > row['Initial IFSP Date']) and\n",
    "            (row[f'exit_{num}'] < row['Exit Date']) and\n",
    "            (row[f'reopen_{num}'] > row['Initial IFSP Date']) and\n",
    "            (row[f'reopen_{num}'] < row['Exit Date'])):\n",
    "            mult_diff_days = (row[f'reopen_{num}'] - row[f'exit_{num}']).days\n",
    "            new_diff += mult_diff_days\n",
    "            new.at[index, 'diff_days_new'] = new_diff\n",
    "        else:\n",
    "            pass\n",
    "new"
   ]
  },
  {
   "cell_type": "code",
   "execution_count": null,
   "id": "ae939ff1",
   "metadata": {},
   "outputs": [],
   "source": []
  },
  {
   "cell_type": "code",
   "execution_count": null,
   "id": "852f8d57",
   "metadata": {},
   "outputs": [],
   "source": []
  },
  {
   "cell_type": "code",
   "execution_count": null,
   "id": "e03fbf64",
   "metadata": {},
   "outputs": [],
   "source": [
    "new = new.loc[new['reopen_1'].notnull()]\n",
    "new"
   ]
  },
  {
   "cell_type": "code",
   "execution_count": null,
   "id": "c00b8a9f",
   "metadata": {},
   "outputs": [],
   "source": [
    "new.loc[new.diff_days_new<0]"
   ]
  },
  {
   "cell_type": "code",
   "execution_count": null,
   "id": "e4dddfe9",
   "metadata": {
    "scrolled": true
   },
   "outputs": [],
   "source": [
    "new['days_in_program'] = new['Days from I-IFSP to Exit']-new['diff_days_new']\n",
    "new"
   ]
  },
  {
   "cell_type": "code",
   "execution_count": null,
   "id": "7536b1bc",
   "metadata": {},
   "outputs": [],
   "source": [
    "ddid['Exit Reason'].value_counts()"
   ]
  },
  {
   "cell_type": "code",
   "execution_count": null,
   "id": "e75c19e0",
   "metadata": {},
   "outputs": [],
   "source": [
    "percentages = pd.concat([ddid['Exit Reason'].value_counts(), \n",
    "                ddid['Exit Reason'].value_counts(normalize=True).mul(100)],axis=1, keys=('counts','percentage'))\n",
    "percentages"
   ]
  },
  {
   "cell_type": "code",
   "execution_count": null,
   "id": "1e50c159",
   "metadata": {},
   "outputs": [],
   "source": [
    "Reason = ['Part B eligibility not determined', 'Parent withdraw', 'Part B eligible', 'Attempts to contact unsuccessful', 'Not eligible for Part B – Exit with referral to other programs', 'Moved out of state', 'Not eligible for Part B – Exit with no referrals', 'Completion of IFSP or no longer requires services', 'Deceased']\n",
    "Count = [1958, 1243, 1173, 566, 245, 138, 162, 57, 10]\n",
    "  \n",
    "plt.bar(Year, Unemployment_Rate)\n",
    "plt.title('Count of Exit Reason')\n",
    "plt.xlabel('Reason')\n",
    "plt.ylabel('Count')\n",
    "plt.show()"
   ]
  },
  {
   "cell_type": "code",
   "execution_count": null,
   "id": "d64af7fe",
   "metadata": {},
   "outputs": [],
   "source": [
    "percentages.to_excel(\"reasons_chart.xlsx\")"
   ]
  },
  {
   "cell_type": "code",
   "execution_count": null,
   "id": "1da0c79d",
   "metadata": {},
   "outputs": [],
   "source": []
  }
 ],
 "metadata": {
  "kernelspec": {
   "display_name": "Python 3 (ipykernel)",
   "language": "python",
   "name": "python3"
  },
  "language_info": {
   "codemirror_mode": {
    "name": "ipython",
    "version": 3
   },
   "file_extension": ".py",
   "mimetype": "text/x-python",
   "name": "python",
   "nbconvert_exporter": "python",
   "pygments_lexer": "ipython3",
   "version": "3.9.7"
  }
 },
 "nbformat": 4,
 "nbformat_minor": 5
}
